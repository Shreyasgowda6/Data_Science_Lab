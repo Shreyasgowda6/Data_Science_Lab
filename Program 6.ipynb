{
 "cells": [
  {
   "cell_type": "code",
   "execution_count": 2,
   "metadata": {},
   "outputs": [
    {
     "name": "stdout",
     "output_type": "stream",
     "text": [
      "Accuracy: 1.0\n"
     ]
    }
   ],
   "source": [
    "from sklearn.tree import DecisionTreeClassifier \n",
    "from sklearn.preprocessing import LabelEncoder \n",
    "from sklearn.model_selection import train_test_split \n",
    "from sklearn.metrics import accuracy_score \n",
    "# Define the dataset \n",
    "data = [ \n",
    "['Low', 'Low', 2, 'No', 'Yes'], \n",
    "['Low', 'Med', 4, 'Yes', 'Yes'], \n",
    "['Low', 'Low', 4, 'No', 'Yes'], \n",
    "['Low', 'Med', 4, 'No', 'No'], \n",
    "['Low', 'High', 4, 'No', 'No'], \n",
    "['Med', 'Med', 4, 'No', 'No'], \n",
    "['Med', 'Med', 4, 'Yes', 'Yes'], \n",
    "['Med', 'High', 2, 'Yes', 'No'], \n",
    "['Med', 'High', 5, 'No', 'Yes'], \n",
    "['High', 'Med', 4, 'Yes', 'Yes'], \n",
    "['High', 'Med', 2, 'Yes', 'Yes'], \n",
    "['High', 'High', 2, 'Yes', 'No'], \n",
    "['High', 'High', 5, 'Yes', 'Yes'] \n",
    "] \n",
    "# Convert data to DataFrame \n",
    "import pandas as pd \n",
    "df = pd.DataFrame(data, columns=['Price', 'Maintenance', 'Capacity', 'Airbag', 'Profitable']) \n",
    "# Encode categorical features \n",
    "label_encoders = {} \n",
    "for column in ['Price', 'Maintenance', 'Airbag', 'Profitable']: \n",
    "    le = LabelEncoder() \n",
    "    df[column] = le.fit_transform(df[column]) \n",
    "    label_encoders[column] = le \n",
    "# Separate features and target variable \n",
    "X = df.drop(columns=['Profitable']) \n",
    "y = df['Profitable'] \n",
    "# Split the dataset into training and testing sets \n",
    "X_train, X_test, y_train, y_test = train_test_split(X, y, test_size=0.2, random_state=42) \n",
    "# Train the decision tree classifier \n",
    "clf = DecisionTreeClassifier(criterion='entropy')  # ID3 algorithm uses information gain (entropy) for splitting \n",
    "clf.fit(X_train, y_train) \n",
    "# Predictions on the test set \n",
    "\n",
    "y_pred = clf.predict(X_test) \n",
    "# Calculate accuracy \n",
    "accuracy = accuracy_score(y_test, y_pred) \n",
    "print(\"Accuracy:\", accuracy) "
   ]
  }
 ],
 "metadata": {
  "kernelspec": {
   "display_name": "Python 3",
   "language": "python",
   "name": "python3"
  },
  "language_info": {
   "codemirror_mode": {
    "name": "ipython",
    "version": 3
   },
   "file_extension": ".py",
   "mimetype": "text/x-python",
   "name": "python",
   "nbconvert_exporter": "python",
   "pygments_lexer": "ipython3",
   "version": "3.11.4"
  }
 },
 "nbformat": 4,
 "nbformat_minor": 2
}
